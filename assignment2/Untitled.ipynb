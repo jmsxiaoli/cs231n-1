{
 "cells": [
  {
   "cell_type": "code",
   "execution_count": 1,
   "id": "9c6b01e6-fc79-4ffc-a3ef-1a78fe066d3e",
   "metadata": {},
   "outputs": [],
   "source": [
    "import numpy as np"
   ]
  },
  {
   "cell_type": "code",
   "execution_count": 2,
   "id": "a3823ddc-daef-463a-87bb-d2c0d5d1ae8b",
   "metadata": {},
   "outputs": [
    {
     "data": {
      "text/plain": [
       "'w4'"
      ]
     },
     "execution_count": 2,
     "metadata": {},
     "output_type": "execute_result"
    }
   ],
   "source": [
    "i = 4\n",
    "\"w\" + str(i)"
   ]
  },
  {
   "cell_type": "code",
   "execution_count": 3,
   "id": "b0aa2088-e926-4a97-8767-9e61842d5f9d",
   "metadata": {},
   "outputs": [
    {
     "data": {
      "text/plain": [
       "'w4'"
      ]
     },
     "execution_count": 3,
     "metadata": {},
     "output_type": "execute_result"
    }
   ],
   "source": [
    "f\"w{i}\""
   ]
  },
  {
   "cell_type": "code",
   "execution_count": 4,
   "id": "d4460bac-3cb0-47c4-820d-aee2d9f74a76",
   "metadata": {},
   "outputs": [
    {
     "data": {
      "text/plain": [
       "[2, 3, 4]"
      ]
     },
     "execution_count": 4,
     "metadata": {},
     "output_type": "execute_result"
    }
   ],
   "source": [
    "a = [2,3,4]\n",
    "[4]+a\n",
    "a"
   ]
  },
  {
   "cell_type": "code",
   "execution_count": 5,
   "id": "3b849e01-ad06-43c1-a9f8-2a40d451930d",
   "metadata": {},
   "outputs": [
    {
     "data": {
      "text/plain": [
       "[4, [2, 3, 4]]"
      ]
     },
     "execution_count": 5,
     "metadata": {},
     "output_type": "execute_result"
    }
   ],
   "source": [
    "[4, a]"
   ]
  },
  {
   "cell_type": "code",
   "execution_count": 6,
   "id": "4acb0572-0843-4053-b22f-de9bced73b06",
   "metadata": {},
   "outputs": [
    {
     "data": {
      "text/plain": [
       "array([4, 2, 3, 4])"
      ]
     },
     "execution_count": 6,
     "metadata": {},
     "output_type": "execute_result"
    }
   ],
   "source": [
    "np.hstack((4,a))"
   ]
  },
  {
   "cell_type": "code",
   "execution_count": 16,
   "id": "b59e00dd-ac84-4c8d-9c74-1c9b3f0892de",
   "metadata": {},
   "outputs": [
    {
     "data": {
      "text/plain": [
       "[(15, 784), (10, 15)]"
      ]
     },
     "execution_count": 16,
     "metadata": {},
     "output_type": "execute_result"
    }
   ],
   "source": [
    "sizes = [784, 15, 10]\n",
    "W = [np.random.normal(loc=0.0, scale=0.01, size=(j, k)) for j, k in zip(sizes[1:], sizes[:-1])]\n",
    "[w.shape for w in W]"
   ]
  },
  {
   "cell_type": "code",
   "execution_count": 91,
   "id": "528f81af-1bbf-4b3e-9743-90c0223fb83a",
   "metadata": {},
   "outputs": [
    {
     "data": {
      "text/plain": [
       "array([0, 4, 0, 8, 6, 7, 4, 9, 3, 6, 1, 2, 2, 2, 7])"
      ]
     },
     "execution_count": 91,
     "metadata": {},
     "output_type": "execute_result"
    }
   ],
   "source": [
    "a = np.random.randint(10, size=(15,))\n",
    "a"
   ]
  },
  {
   "cell_type": "code",
   "execution_count": 109,
   "id": "9974112a-757d-43f9-b51b-78be18b707f7",
   "metadata": {},
   "outputs": [
    {
     "data": {
      "text/plain": [
       "13"
      ]
     },
     "execution_count": 109,
     "metadata": {},
     "output_type": "execute_result"
    }
   ],
   "source": [
    "i = np.random.randint(len(a))\n",
    "i"
   ]
  },
  {
   "cell_type": "code",
   "execution_count": 110,
   "id": "305fd542-fdc7-4c63-8c8f-cb05e8bf6429",
   "metadata": {},
   "outputs": [
    {
     "data": {
      "text/plain": [
       "2"
      ]
     },
     "execution_count": 110,
     "metadata": {},
     "output_type": "execute_result"
    }
   ],
   "source": [
    "y = a[i]\n",
    "y"
   ]
  },
  {
   "cell_type": "code",
   "execution_count": 111,
   "id": "985f167b-fe94-467a-882e-9ef7ad96a879",
   "metadata": {},
   "outputs": [
    {
     "data": {
      "text/plain": [
       "False"
      ]
     },
     "execution_count": 111,
     "metadata": {},
     "output_type": "execute_result"
    }
   ],
   "source": [
    "0.25 < (i+1) / len(a) < 0.75"
   ]
  },
  {
   "cell_type": "code",
   "execution_count": 105,
   "id": "6137a454-e673-459b-9826-9c4403b979ad",
   "metadata": {},
   "outputs": [
    {
     "data": {
      "text/plain": [
       "7"
      ]
     },
     "execution_count": 105,
     "metadata": {},
     "output_type": "execute_result"
    }
   ],
   "source": [
    "i+1"
   ]
  },
  {
   "cell_type": "code",
   "execution_count": 104,
   "id": "fbb39c6d-8bcb-4b29-a355-d305002836e9",
   "metadata": {},
   "outputs": [
    {
     "data": {
      "text/plain": [
       "15"
      ]
     },
     "execution_count": 104,
     "metadata": {},
     "output_type": "execute_result"
    }
   ],
   "source": [
    "len(a)"
   ]
  },
  {
   "cell_type": "code",
   "execution_count": 106,
   "id": "03ffc08c-4d72-4ca2-a0d5-ccb861d05589",
   "metadata": {},
   "outputs": [
    {
     "data": {
      "text/plain": [
       "0.4666666666666667"
      ]
     },
     "execution_count": 106,
     "metadata": {},
     "output_type": "execute_result"
    }
   ],
   "source": [
    "(i+1) / len(a)"
   ]
  },
  {
   "cell_type": "code",
   "execution_count": 114,
   "id": "07abdef4-5e5c-4671-986d-7498ca4056fc",
   "metadata": {},
   "outputs": [
    {
     "data": {
      "text/plain": [
       "array([0, 4, 0, 8, 6, 7, 4, 9, 3, 6, 1, 2, 2])"
      ]
     },
     "execution_count": 114,
     "metadata": {},
     "output_type": "execute_result"
    }
   ],
   "source": [
    "a[:i]"
   ]
  },
  {
   "cell_type": "code",
   "execution_count": 115,
   "id": "9b5f125e-01f5-4c3c-9a4e-d962cbd3a055",
   "metadata": {},
   "outputs": [
    {
     "data": {
      "text/plain": [
       "array([7])"
      ]
     },
     "execution_count": 115,
     "metadata": {},
     "output_type": "execute_result"
    }
   ],
   "source": [
    "a[i+1:]"
   ]
  },
  {
   "cell_type": "code",
   "execution_count": 113,
   "id": "2ef1f6dd-d3e0-4bd0-926f-588e0c2f6351",
   "metadata": {},
   "outputs": [
    {
     "data": {
      "text/plain": [
       "array([0, 4, 0, 8, 6, 7, 4, 9, 3, 6, 1, 2, 2, 2, 7])"
      ]
     },
     "execution_count": 113,
     "metadata": {},
     "output_type": "execute_result"
    }
   ],
   "source": [
    "np.concatenate((a[:i], [y], a[i+1:]))"
   ]
  },
  {
   "cell_type": "code",
   "execution_count": 220,
   "id": "805e7c41-d8cd-42d5-910d-2a59562bc67a",
   "metadata": {},
   "outputs": [],
   "source": [
    "def randQS(L):\n",
    "    \n",
    "    L = np.array(L)\n",
    "    n = len(L)\n",
    "    \n",
    "    if n == 0:\n",
    "        return np.array([])\n",
    "    if n == 1:\n",
    "        return L\n",
    "    if n == 2:\n",
    "        if L[0] < L[1]:\n",
    "            return L\n",
    "        else:\n",
    "            return np.concatenate(([L[1]], [L[0]]))\n",
    "    if n == 3:\n",
    "        i = 1\n",
    "    if n == 4:\n",
    "        i = 1    \n",
    "    else:\n",
    "        i = -1\n",
    "        k = 0\n",
    "        while k < 4:\n",
    "            if 0.25 < (i+1) / n < 0.75:\n",
    "                i = np.random.randint(n)\n",
    "                continue\n",
    "            break\n",
    "\n",
    "    y = L[i]\n",
    "    \n",
    "    S = np.concatenate((L[:i], L[i+1:]))\n",
    "    S1, S2 = [], []\n",
    "    \n",
    "    for j in S:\n",
    "        if S[j] < y:\n",
    "            S1.append[L[j]]\n",
    "        else:\n",
    "            S2.append[L[j]]\n",
    "    \n",
    "    return np.concatenate(randQS(S1), [y], randQS(S2))"
   ]
  },
  {
   "cell_type": "code",
   "execution_count": 221,
   "id": "d76dece0-52c6-4ee2-982d-e799511758ff",
   "metadata": {},
   "outputs": [
    {
     "data": {
      "text/plain": [
       "array([5, 3, 9])"
      ]
     },
     "execution_count": 221,
     "metadata": {},
     "output_type": "execute_result"
    }
   ],
   "source": [
    "L = np.random.randint(10, size=(3,))\n",
    "L"
   ]
  },
  {
   "cell_type": "code",
   "execution_count": 222,
   "id": "7b74c07d-5e9b-4843-96e9-08b909274cb6",
   "metadata": {},
   "outputs": [
    {
     "ename": "IndexError",
     "evalue": "index 5 is out of bounds for axis 0 with size 5",
     "output_type": "error",
     "traceback": [
      "\u001b[1;31m---------------------------------------------------------------------------\u001b[0m",
      "\u001b[1;31mIndexError\u001b[0m                                Traceback (most recent call last)",
      "Input \u001b[1;32mIn [222]\u001b[0m, in \u001b[0;36m<cell line: 1>\u001b[1;34m()\u001b[0m\n\u001b[1;32m----> 1\u001b[0m \u001b[43mrandQS\u001b[49m\u001b[43m(\u001b[49m\u001b[43mL\u001b[49m\u001b[43m)\u001b[49m\n",
      "Input \u001b[1;32mIn [220]\u001b[0m, in \u001b[0;36mrandQS\u001b[1;34m(L)\u001b[0m\n\u001b[0;32m     31\u001b[0m S1, S2 \u001b[38;5;241m=\u001b[39m [], []\n\u001b[0;32m     33\u001b[0m \u001b[38;5;28;01mfor\u001b[39;00m j \u001b[38;5;129;01min\u001b[39;00m S:\n\u001b[1;32m---> 34\u001b[0m     \u001b[38;5;28;01mif\u001b[39;00m \u001b[43mS\u001b[49m\u001b[43m[\u001b[49m\u001b[43mj\u001b[49m\u001b[43m]\u001b[49m \u001b[38;5;241m<\u001b[39m y:\n\u001b[0;32m     35\u001b[0m         S1\u001b[38;5;241m.\u001b[39mappend[L[j]]\n\u001b[0;32m     36\u001b[0m     \u001b[38;5;28;01melse\u001b[39;00m:\n",
      "\u001b[1;31mIndexError\u001b[0m: index 5 is out of bounds for axis 0 with size 5"
     ]
    }
   ],
   "source": [
    "randQS(L)"
   ]
  },
  {
   "cell_type": "code",
   "execution_count": 229,
   "id": "2589a1e4-0c80-41b2-9270-721915c0ef3a",
   "metadata": {},
   "outputs": [
    {
     "name": "stdout",
     "output_type": "stream",
     "text": [
      "5\n",
      "4\n",
      "3\n"
     ]
    }
   ],
   "source": [
    "for i in range(5, 2, -1):\n",
    "    print(i)"
   ]
  },
  {
   "cell_type": "code",
   "execution_count": 230,
   "id": "0612b776-6138-4017-bc02-b146e503b85f",
   "metadata": {},
   "outputs": [
    {
     "ename": "IndexError",
     "evalue": "list assignment index out of range",
     "output_type": "error",
     "traceback": [
      "\u001b[1;31m---------------------------------------------------------------------------\u001b[0m",
      "\u001b[1;31mIndexError\u001b[0m                                Traceback (most recent call last)",
      "Input \u001b[1;32mIn [230]\u001b[0m, in \u001b[0;36m<cell line: 2>\u001b[1;34m()\u001b[0m\n\u001b[0;32m      1\u001b[0m a \u001b[38;5;241m=\u001b[39m []\n\u001b[1;32m----> 2\u001b[0m a[\u001b[38;5;241m1\u001b[39m] \u001b[38;5;241m=\u001b[39m \u001b[38;5;241m4\u001b[39m\n",
      "\u001b[1;31mIndexError\u001b[0m: list assignment index out of range"
     ]
    }
   ],
   "source": [
    "a = []\n",
    "a[1] = 4"
   ]
  },
  {
   "cell_type": "code",
   "execution_count": null,
   "id": "a1f49df7-a942-4e8c-83c3-2b40f0719647",
   "metadata": {},
   "outputs": [],
   "source": []
  }
 ],
 "metadata": {
  "kernelspec": {
   "display_name": "Python 3 (ipykernel)",
   "language": "python",
   "name": "python3"
  },
  "language_info": {
   "codemirror_mode": {
    "name": "ipython",
    "version": 3
   },
   "file_extension": ".py",
   "mimetype": "text/x-python",
   "name": "python",
   "nbconvert_exporter": "python",
   "pygments_lexer": "ipython3",
   "version": "3.9.9"
  }
 },
 "nbformat": 4,
 "nbformat_minor": 5
}
