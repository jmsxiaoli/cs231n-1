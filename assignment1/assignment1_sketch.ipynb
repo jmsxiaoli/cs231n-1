{
 "cells": [
  {
   "cell_type": "code",
   "execution_count": 1,
   "id": "e882fae6-b8d1-4f5b-86c7-5918bc3c25df",
   "metadata": {},
   "outputs": [],
   "source": [
    "import numpy as np"
   ]
  },
  {
   "cell_type": "code",
   "execution_count": 2,
   "id": "c607ae65-7a4a-4a41-b9de-7de842f3f17d",
   "metadata": {},
   "outputs": [
    {
     "data": {
      "text/plain": [
       "array([0, 3, 2, 1], dtype=int64)"
      ]
     },
     "execution_count": 2,
     "metadata": {},
     "output_type": "execute_result"
    }
   ],
   "source": [
    "a = [1,4,3,2]\n",
    "c = np.argsort(a)\n",
    "c"
   ]
  },
  {
   "cell_type": "code",
   "execution_count": 3,
   "id": "8a24a12f-939c-4631-882d-d2193230fa9c",
   "metadata": {},
   "outputs": [
    {
     "data": {
      "text/plain": [
       "[1, 4, 3, 2]"
      ]
     },
     "execution_count": 3,
     "metadata": {},
     "output_type": "execute_result"
    }
   ],
   "source": [
    "a"
   ]
  },
  {
   "cell_type": "code",
   "execution_count": 4,
   "id": "fddfb928-0771-4d9c-a403-97832e56f4d8",
   "metadata": {},
   "outputs": [
    {
     "data": {
      "text/plain": [
       "array([5, 6, 7, 8])"
      ]
     },
     "execution_count": 4,
     "metadata": {},
     "output_type": "execute_result"
    }
   ],
   "source": [
    "b = np.array([5,6,7,8])\n",
    "b[np.argsort(b)]"
   ]
  },
  {
   "cell_type": "code",
   "execution_count": 5,
   "id": "d89a361d-1f2d-45c5-ae47-118250a4fd6b",
   "metadata": {},
   "outputs": [
    {
     "name": "stdout",
     "output_type": "stream",
     "text": [
      "[1 2 3 4] [2 1 2 1]\n",
      "0 1\n"
     ]
    }
   ],
   "source": [
    "a = np.array([3,1,4,2,1,3])\n",
    "values, counts = np.unique(a, return_counts=True)\n",
    "print(values, counts)\n",
    "index = np.argmax(counts)\n",
    "values[index]\n",
    "print(index, values[index])"
   ]
  },
  {
   "cell_type": "code",
   "execution_count": 6,
   "id": "c3766d36-2dd3-414e-a05b-ec24caaa492b",
   "metadata": {},
   "outputs": [
    {
     "data": {
      "text/plain": [
       "array([[0, 1, 2],\n",
       "       [3, 4, 5],\n",
       "       [6, 7, 8]])"
      ]
     },
     "execution_count": 6,
     "metadata": {},
     "output_type": "execute_result"
    }
   ],
   "source": [
    "a = np.arange(9).reshape(3,3)\n",
    "a"
   ]
  },
  {
   "cell_type": "code",
   "execution_count": 7,
   "id": "62ef90ab-44b9-48c4-a366-f109224f6929",
   "metadata": {},
   "outputs": [
    {
     "data": {
      "text/plain": [
       "array([[ 3,  4,  5],\n",
       "       [ 6,  7,  8],\n",
       "       [ 9, 10, 11],\n",
       "       [12, 13, 14]])"
      ]
     },
     "execution_count": 7,
     "metadata": {},
     "output_type": "execute_result"
    }
   ],
   "source": [
    "b = np.arange(3,15).reshape(4,3)\n",
    "b"
   ]
  },
  {
   "cell_type": "code",
   "execution_count": 8,
   "id": "3474a291-d3e4-4132-bea3-f4e75921c9d6",
   "metadata": {},
   "outputs": [
    {
     "data": {
      "text/plain": [
       "array([[ 5.19615242, 10.39230485, 15.58845727, 20.78460969],\n",
       "       [ 0.        ,  5.19615242, 10.39230485, 15.58845727],\n",
       "       [ 5.19615242,  0.        ,  5.19615242, 10.39230485]])"
      ]
     },
     "execution_count": 8,
     "metadata": {},
     "output_type": "execute_result"
    }
   ],
   "source": [
    "np.sqrt(np.diag(a @ a.T).reshape(-1,1) -2*a @ b.T\\\n",
    "            + np.diag(b @ b.T).reshape(1,-1))"
   ]
  },
  {
   "cell_type": "code",
   "execution_count": 9,
   "id": "dbca1e1f-044f-4c9c-94fa-e030185b9d99",
   "metadata": {},
   "outputs": [
    {
     "data": {
      "text/plain": [
       "array([[ 0,  1,  2,  3,  4,  5,  6,  7,  8,  9],\n",
       "       [10, 11, 12, 13, 14, 15, 16, 17, 18, 19],\n",
       "       [20, 21, 22, 23, 24, 25, 26, 27, 28, 29],\n",
       "       [30, 31, 32, 33, 34, 35, 36, 37, 38, 39],\n",
       "       [40, 41, 42, 43, 44, 45, 46, 47, 48, 49],\n",
       "       [50, 51, 52, 53, 54, 55, 56, 57, 58, 59],\n",
       "       [60, 61, 62, 63, 64, 65, 66, 67, 68, 69],\n",
       "       [70, 71, 72, 73, 74, 75, 76, 77, 78, 79],\n",
       "       [80, 81, 82, 83, 84, 85, 86, 87, 88, 89],\n",
       "       [90, 91, 92, 93, 94, 95, 96, 97, 98, 99]])"
      ]
     },
     "execution_count": 9,
     "metadata": {},
     "output_type": "execute_result"
    }
   ],
   "source": [
    "a = np.arange(100).reshape(10,-1)\n",
    "a"
   ]
  },
  {
   "cell_type": "code",
   "execution_count": 10,
   "id": "2e3bc14a-5441-42e6-807e-ec27d0fe8d7d",
   "metadata": {},
   "outputs": [
    {
     "data": {
      "text/plain": [
       "(10, 10)"
      ]
     },
     "execution_count": 10,
     "metadata": {},
     "output_type": "execute_result"
    }
   ],
   "source": [
    "a.shape"
   ]
  },
  {
   "cell_type": "code",
   "execution_count": 11,
   "id": "b1baeee8-898b-46c1-a5fe-d32f2591fd2a",
   "metadata": {},
   "outputs": [
    {
     "data": {
      "text/plain": [
       "[array([[ 0,  1,  2,  3,  4,  5,  6,  7,  8,  9],\n",
       "        [10, 11, 12, 13, 14, 15, 16, 17, 18, 19]]),\n",
       " array([[20, 21, 22, 23, 24, 25, 26, 27, 28, 29],\n",
       "        [30, 31, 32, 33, 34, 35, 36, 37, 38, 39]]),\n",
       " array([[40, 41, 42, 43, 44, 45, 46, 47, 48, 49],\n",
       "        [50, 51, 52, 53, 54, 55, 56, 57, 58, 59]]),\n",
       " array([[60, 61, 62, 63, 64, 65, 66, 67, 68, 69],\n",
       "        [70, 71, 72, 73, 74, 75, 76, 77, 78, 79]]),\n",
       " array([[80, 81, 82, 83, 84, 85, 86, 87, 88, 89],\n",
       "        [90, 91, 92, 93, 94, 95, 96, 97, 98, 99]])]"
      ]
     },
     "execution_count": 11,
     "metadata": {},
     "output_type": "execute_result"
    }
   ],
   "source": [
    "b = np.array_split(a, 5)\n",
    "b"
   ]
  },
  {
   "cell_type": "code",
   "execution_count": 12,
   "id": "15cf1474-0ec3-4b96-9841-2b978f42a906",
   "metadata": {},
   "outputs": [
    {
     "data": {
      "text/plain": [
       "(2, 10)"
      ]
     },
     "execution_count": 12,
     "metadata": {},
     "output_type": "execute_result"
    }
   ],
   "source": [
    "b[0].shape"
   ]
  },
  {
   "cell_type": "code",
   "execution_count": 13,
   "id": "a3c0a71b-94b7-4621-a3e5-f8a747ca2db5",
   "metadata": {},
   "outputs": [
    {
     "name": "stdout",
     "output_type": "stream",
     "text": [
      "[[20 21 22 23 24 25 26 27 28 29]\n",
      " [30 31 32 33 34 35 36 37 38 39]\n",
      " [40 41 42 43 44 45 46 47 48 49]\n",
      " [50 51 52 53 54 55 56 57 58 59]\n",
      " [60 61 62 63 64 65 66 67 68 69]\n",
      " [70 71 72 73 74 75 76 77 78 79]\n",
      " [80 81 82 83 84 85 86 87 88 89]\n",
      " [90 91 92 93 94 95 96 97 98 99]]\n",
      "[[ 0  1  2  3  4  5  6  7  8  9]\n",
      " [10 11 12 13 14 15 16 17 18 19]\n",
      " [40 41 42 43 44 45 46 47 48 49]\n",
      " [50 51 52 53 54 55 56 57 58 59]\n",
      " [60 61 62 63 64 65 66 67 68 69]\n",
      " [70 71 72 73 74 75 76 77 78 79]\n",
      " [80 81 82 83 84 85 86 87 88 89]\n",
      " [90 91 92 93 94 95 96 97 98 99]]\n",
      "[[ 0  1  2  3  4  5  6  7  8  9]\n",
      " [10 11 12 13 14 15 16 17 18 19]\n",
      " [20 21 22 23 24 25 26 27 28 29]\n",
      " [30 31 32 33 34 35 36 37 38 39]\n",
      " [60 61 62 63 64 65 66 67 68 69]\n",
      " [70 71 72 73 74 75 76 77 78 79]\n",
      " [80 81 82 83 84 85 86 87 88 89]\n",
      " [90 91 92 93 94 95 96 97 98 99]]\n",
      "[[ 0  1  2  3  4  5  6  7  8  9]\n",
      " [10 11 12 13 14 15 16 17 18 19]\n",
      " [20 21 22 23 24 25 26 27 28 29]\n",
      " [30 31 32 33 34 35 36 37 38 39]\n",
      " [40 41 42 43 44 45 46 47 48 49]\n",
      " [50 51 52 53 54 55 56 57 58 59]\n",
      " [80 81 82 83 84 85 86 87 88 89]\n",
      " [90 91 92 93 94 95 96 97 98 99]]\n",
      "[[ 0  1  2  3  4  5  6  7  8  9]\n",
      " [10 11 12 13 14 15 16 17 18 19]\n",
      " [20 21 22 23 24 25 26 27 28 29]\n",
      " [30 31 32 33 34 35 36 37 38 39]\n",
      " [40 41 42 43 44 45 46 47 48 49]\n",
      " [50 51 52 53 54 55 56 57 58 59]\n",
      " [60 61 62 63 64 65 66 67 68 69]\n",
      " [70 71 72 73 74 75 76 77 78 79]]\n"
     ]
    }
   ],
   "source": [
    "for fold in range(5):\n",
    "    print(np.concatenate((b[:fold] + b[fold+1:])))"
   ]
  },
  {
   "cell_type": "code",
   "execution_count": 14,
   "id": "76f8e1d4-83dd-47a4-90f7-c264d37e1d16",
   "metadata": {},
   "outputs": [
    {
     "data": {
      "text/plain": [
       "array([[ 0,  1,  2,  3,  4,  5,  6,  7,  8,  9],\n",
       "       [10, 11, 12, 13, 14, 15, 16, 17, 18, 19],\n",
       "       [20, 21, 22, 23, 24, 25, 26, 27, 28, 29],\n",
       "       [30, 31, 32, 33, 34, 35, 36, 37, 38, 39]])"
      ]
     },
     "execution_count": 14,
     "metadata": {},
     "output_type": "execute_result"
    }
   ],
   "source": [
    "np.concatenate((b[0],b[1]))"
   ]
  },
  {
   "cell_type": "code",
   "execution_count": 15,
   "id": "f4039f7e-5256-40f7-8ffd-b7f0c664c062",
   "metadata": {},
   "outputs": [
    {
     "name": "stdout",
     "output_type": "stream",
     "text": [
      "range(49000, 50000)\n"
     ]
    }
   ],
   "source": [
    "# Split the data into train, val, and test sets. In addition we will\n",
    "# create a small development set as a subset of the training data;\n",
    "# we can use this for development so our code runs faster.\n",
    "num_training = 49000\n",
    "num_validation = 1000\n",
    "num_test = 1000\n",
    "num_dev = 500\n",
    "\n",
    "# Our validation set will be num_validation points from the original\n",
    "# training set.\n",
    "mask = range(num_training, num_training + num_validation)\n",
    "print(mask)\n",
    "\n"
   ]
  },
  {
   "cell_type": "code",
   "execution_count": 16,
   "id": "cea28320-0bc4-4ef7-95f9-2db5f5ae7ae4",
   "metadata": {},
   "outputs": [
    {
     "data": {
      "text/plain": [
       "array([[ 0,  1,  2,  3,  4,  5,  6,  7,  8,  9],\n",
       "       [10, 11, 12, 13, 14, 15, 16, 17, 18, 19],\n",
       "       [20, 21, 22, 23, 24, 25, 26, 27, 28, 29],\n",
       "       [30, 31, 32, 33, 34, 35, 36, 37, 38, 39],\n",
       "       [40, 41, 42, 43, 44, 45, 46, 47, 48, 49],\n",
       "       [50, 51, 52, 53, 54, 55, 56, 57, 58, 59],\n",
       "       [60, 61, 62, 63, 64, 65, 66, 67, 68, 69],\n",
       "       [70, 71, 72, 73, 74, 75, 76, 77, 78, 79]])"
      ]
     },
     "execution_count": 16,
     "metadata": {},
     "output_type": "execute_result"
    }
   ],
   "source": [
    "a = np.arange(80).reshape(8,-1)\n",
    "a"
   ]
  },
  {
   "cell_type": "code",
   "execution_count": 17,
   "id": "2ff35f9f-8b79-470d-9467-5a7e940434bf",
   "metadata": {},
   "outputs": [
    {
     "data": {
      "text/plain": [
       "array([5, 8, 4, 2, 8, 8, 3, 6])"
      ]
     },
     "execution_count": 17,
     "metadata": {},
     "output_type": "execute_result"
    }
   ],
   "source": [
    "b  = np.random.choice(9, size=8)\n",
    "b"
   ]
  },
  {
   "cell_type": "code",
   "execution_count": 18,
   "id": "9cdf7099-cca0-4ab6-a5ca-89c0b23301d4",
   "metadata": {},
   "outputs": [
    {
     "data": {
      "text/plain": [
       "array([[ 5],\n",
       "       [18],\n",
       "       [24],\n",
       "       [32],\n",
       "       [48],\n",
       "       [58],\n",
       "       [63],\n",
       "       [76]])"
      ]
     },
     "execution_count": 18,
     "metadata": {},
     "output_type": "execute_result"
    }
   ],
   "source": [
    "c = a[np.arange(a.shape[0]), b].reshape(-1, 1)\n",
    "c"
   ]
  },
  {
   "cell_type": "code",
   "execution_count": 19,
   "id": "6a56a6fa-c78f-4bfc-9482-dbeabff7bd6b",
   "metadata": {},
   "outputs": [
    {
     "data": {
      "text/plain": [
       "array([[0, 0, 0, 0, 0, 1, 2, 3, 4, 5],\n",
       "       [0, 0, 0, 0, 0, 0, 0, 0, 1, 2],\n",
       "       [0, 0, 0, 0, 1, 2, 3, 4, 5, 6],\n",
       "       [0, 0, 1, 2, 3, 4, 5, 6, 7, 8],\n",
       "       [0, 0, 0, 0, 0, 0, 0, 0, 1, 2],\n",
       "       [0, 0, 0, 0, 0, 0, 0, 0, 1, 2],\n",
       "       [0, 0, 0, 1, 2, 3, 4, 5, 6, 7],\n",
       "       [0, 0, 0, 0, 0, 0, 1, 2, 3, 4]])"
      ]
     },
     "execution_count": 19,
     "metadata": {},
     "output_type": "execute_result"
    }
   ],
   "source": [
    "margins = np.maximum(0, a - c + 1)\n",
    "margins"
   ]
  },
  {
   "cell_type": "code",
   "execution_count": 20,
   "id": "282a7a29-03fe-4a9a-9fc9-c78c3190f656",
   "metadata": {},
   "outputs": [
    {
     "data": {
      "text/plain": [
       "array([[0, 0, 0, 0, 0, 0, 2, 3, 4, 5],\n",
       "       [0, 0, 0, 0, 0, 0, 0, 0, 0, 2],\n",
       "       [0, 0, 0, 0, 0, 2, 3, 4, 5, 6],\n",
       "       [0, 0, 0, 2, 3, 4, 5, 6, 7, 8],\n",
       "       [0, 0, 0, 0, 0, 0, 0, 0, 0, 2],\n",
       "       [0, 0, 0, 0, 0, 0, 0, 0, 0, 2],\n",
       "       [0, 0, 0, 0, 2, 3, 4, 5, 6, 7],\n",
       "       [0, 0, 0, 0, 0, 0, 0, 2, 3, 4]])"
      ]
     },
     "execution_count": 20,
     "metadata": {},
     "output_type": "execute_result"
    }
   ],
   "source": [
    "margins[np.arange(a.shape[0]), b] = 0\n",
    "margins"
   ]
  },
  {
   "cell_type": "code",
   "execution_count": 21,
   "id": "8343e6aa-d11f-44be-9552-056a2d6a0841",
   "metadata": {},
   "outputs": [
    {
     "data": {
      "text/plain": [
       "array([[0, 0, 0, 0, 0, 0, 1, 1, 1, 1],\n",
       "       [0, 0, 0, 0, 0, 0, 0, 0, 0, 1],\n",
       "       [0, 0, 0, 0, 0, 1, 1, 1, 1, 1],\n",
       "       [0, 0, 0, 1, 1, 1, 1, 1, 1, 1],\n",
       "       [0, 0, 0, 0, 0, 0, 0, 0, 0, 1],\n",
       "       [0, 0, 0, 0, 0, 0, 0, 0, 0, 1],\n",
       "       [0, 0, 0, 0, 1, 1, 1, 1, 1, 1],\n",
       "       [0, 0, 0, 0, 0, 0, 0, 1, 1, 1]])"
      ]
     },
     "execution_count": 21,
     "metadata": {},
     "output_type": "execute_result"
    }
   ],
   "source": [
    "d = np.where(margins > 0, 1, 0)\n",
    "d"
   ]
  },
  {
   "cell_type": "code",
   "execution_count": 22,
   "id": "910f2d64-b949-4684-a709-a1dce04ffc22",
   "metadata": {},
   "outputs": [
    {
     "data": {
      "text/plain": [
       "array([[2, 2, 6],\n",
       "       [5, 0, 2],\n",
       "       [5, 1, 0],\n",
       "       [3, 5, 6],\n",
       "       [1, 7, 4],\n",
       "       [2, 0, 2],\n",
       "       [3, 0, 7],\n",
       "       [4, 3, 4]])"
      ]
     },
     "execution_count": 22,
     "metadata": {},
     "output_type": "execute_result"
    }
   ],
   "source": [
    "X  = np.random.choice(9, size=(8,3))\n",
    "X"
   ]
  },
  {
   "cell_type": "code",
   "execution_count": 23,
   "id": "bc72ebd6-bc4e-40c8-b91c-d3b6961f1b2d",
   "metadata": {},
   "outputs": [
    {
     "data": {
      "text/plain": [
       "array([[0., 0., 0., 0., 0., 0., 0., 0., 0., 0.],\n",
       "       [0., 0., 0., 0., 0., 0., 0., 0., 0., 0.],\n",
       "       [0., 0., 0., 0., 0., 0., 0., 0., 0., 0.]])"
      ]
     },
     "execution_count": 23,
     "metadata": {},
     "output_type": "execute_result"
    }
   ],
   "source": [
    "dW = np.zeros((3,10))\n",
    "dW"
   ]
  },
  {
   "cell_type": "code",
   "execution_count": 24,
   "id": "e809e7a8-501a-4bbb-8d0f-1c4b873416bf",
   "metadata": {},
   "outputs": [
    {
     "data": {
      "text/plain": [
       "array([4, 1, 5, 7, 1, 1, 6, 3])"
      ]
     },
     "execution_count": 24,
     "metadata": {},
     "output_type": "execute_result"
    }
   ],
   "source": [
    "f = d.sum(axis=1)\n",
    "f"
   ]
  },
  {
   "cell_type": "code",
   "execution_count": 25,
   "id": "10429382-ec65-421c-80ec-08c0907f48c6",
   "metadata": {},
   "outputs": [
    {
     "data": {
      "text/plain": [
       "array([[ 0,  0,  0,  0,  0, -4,  1,  1,  1,  1],\n",
       "       [ 0,  0,  0,  0,  0,  0,  0,  0, -1,  1],\n",
       "       [ 0,  0,  0,  0, -5,  1,  1,  1,  1,  1],\n",
       "       [ 0,  0, -7,  1,  1,  1,  1,  1,  1,  1],\n",
       "       [ 0,  0,  0,  0,  0,  0,  0,  0, -1,  1],\n",
       "       [ 0,  0,  0,  0,  0,  0,  0,  0, -1,  1],\n",
       "       [ 0,  0,  0, -6,  1,  1,  1,  1,  1,  1],\n",
       "       [ 0,  0,  0,  0,  0,  0, -3,  1,  1,  1]])"
      ]
     },
     "execution_count": 25,
     "metadata": {},
     "output_type": "execute_result"
    }
   ],
   "source": [
    "d[np.arange(d.shape[0]), b] = -f\n",
    "d"
   ]
  },
  {
   "cell_type": "code",
   "execution_count": 26,
   "id": "069e9506-c1c4-47ac-8abf-cc9996496248",
   "metadata": {},
   "outputs": [
    {
     "data": {
      "text/plain": [
       "array([[2, 5, 5, 3, 1, 2, 3, 4],\n",
       "       [2, 0, 1, 5, 7, 0, 0, 3],\n",
       "       [6, 2, 0, 6, 4, 2, 7, 4]])"
      ]
     },
     "execution_count": 26,
     "metadata": {},
     "output_type": "execute_result"
    }
   ],
   "source": [
    "X.T"
   ]
  },
  {
   "cell_type": "code",
   "execution_count": 27,
   "id": "e290c9b4-951c-483d-9e1e-98aa58050c4b",
   "metadata": {},
   "outputs": [
    {
     "data": {
      "text/plain": [
       "array([[  0,   0, -21, -15, -19,   3,   1,  17,   9,  25],\n",
       "       [  0,   0, -35,   5,   0,  -2,  -1,  11,   4,  18],\n",
       "       [  0,   0, -42, -36,  13, -11,   7,  23,  15,  31]])"
      ]
     },
     "execution_count": 27,
     "metadata": {},
     "output_type": "execute_result"
    }
   ],
   "source": [
    "X.T @ d"
   ]
  },
  {
   "cell_type": "code",
   "execution_count": 28,
   "id": "3be117ac-842e-45ea-97ef-e7e5393c0b5e",
   "metadata": {},
   "outputs": [
    {
     "data": {
      "text/plain": [
       "array([0, 0, 0, 0, 0, 0, 0, 0])"
      ]
     },
     "execution_count": 28,
     "metadata": {},
     "output_type": "execute_result"
    }
   ],
   "source": [
    "f = d.sum(axis=1)\n",
    "f"
   ]
  },
  {
   "cell_type": "code",
   "execution_count": 29,
   "id": "46f7b41b-70d6-4fcc-8de8-b760539c1bc9",
   "metadata": {},
   "outputs": [
    {
     "data": {
      "text/plain": [
       "array([[0, 0, 0, 0, 0, 0, 0, 0, 0, 0],\n",
       "       [0, 0, 0, 0, 0, 0, 0, 0, 0, 0],\n",
       "       [0, 0, 0, 0, 0, 0, 0, 0, 0, 0],\n",
       "       [0, 0, 0, 0, 0, 0, 0, 0, 0, 0],\n",
       "       [0, 0, 0, 0, 0, 0, 0, 0, 0, 0],\n",
       "       [0, 0, 0, 0, 0, 0, 0, 0, 0, 0],\n",
       "       [0, 0, 0, 0, 0, 0, 0, 0, 0, 0],\n",
       "       [0, 0, 0, 0, 0, 0, 0, 0, 0, 0]])"
      ]
     },
     "execution_count": 29,
     "metadata": {},
     "output_type": "execute_result"
    }
   ],
   "source": [
    "e = np.zeros_like(d)\n",
    "e"
   ]
  },
  {
   "cell_type": "code",
   "execution_count": 30,
   "id": "8ba4499a-a240-4076-975c-898139b773f9",
   "metadata": {},
   "outputs": [
    {
     "data": {
      "text/plain": [
       "array([[0, 0, 0, 0, 0, 0, 0, 0, 0, 0],\n",
       "       [0, 0, 0, 0, 0, 0, 0, 0, 0, 0],\n",
       "       [0, 0, 0, 0, 0, 0, 0, 0, 0, 0],\n",
       "       [0, 0, 0, 0, 0, 0, 0, 0, 0, 0],\n",
       "       [0, 0, 0, 0, 0, 0, 0, 0, 0, 0],\n",
       "       [0, 0, 0, 0, 0, 0, 0, 0, 0, 0],\n",
       "       [0, 0, 0, 0, 0, 0, 0, 0, 0, 0],\n",
       "       [0, 0, 0, 0, 0, 0, 0, 0, 0, 0]])"
      ]
     },
     "execution_count": 30,
     "metadata": {},
     "output_type": "execute_result"
    }
   ],
   "source": [
    "e[np.arange(e.shape[0]), b] = -f\n",
    "e"
   ]
  },
  {
   "cell_type": "code",
   "execution_count": 31,
   "id": "e1d0aaaf-fb19-41de-a05a-84673079f6e2",
   "metadata": {},
   "outputs": [
    {
     "data": {
      "text/plain": [
       "array([[2, 3, 8],\n",
       "       [1, 4, 3],\n",
       "       [2, 2, 8],\n",
       "       [5, 8, 2],\n",
       "       [2, 6, 6],\n",
       "       [2, 2, 3],\n",
       "       [3, 5, 4],\n",
       "       [5, 5, 2]])"
      ]
     },
     "execution_count": 31,
     "metadata": {},
     "output_type": "execute_result"
    }
   ],
   "source": [
    "G  = np.random.choice(9, size=(8,3))\n",
    "G"
   ]
  },
  {
   "cell_type": "code",
   "execution_count": 32,
   "id": "6489880d-1304-42a0-9beb-90ba9eb06beb",
   "metadata": {},
   "outputs": [
    {
     "data": {
      "text/plain": [
       "array([2, 1, 2, 1, 1, 2, 1, 0], dtype=int64)"
      ]
     },
     "execution_count": 32,
     "metadata": {},
     "output_type": "execute_result"
    }
   ],
   "source": [
    "np.argmax(G, axis=1)"
   ]
  },
  {
   "cell_type": "code",
   "execution_count": 33,
   "id": "1993dd2c-cfd0-4746-9906-ef8163d019ae",
   "metadata": {},
   "outputs": [
    {
     "data": {
      "text/plain": [
       "array([8, 4, 8, 8, 6, 3, 5, 5])"
      ]
     },
     "execution_count": 33,
     "metadata": {},
     "output_type": "execute_result"
    }
   ],
   "source": [
    "np.max(G, axis=1)"
   ]
  },
  {
   "cell_type": "code",
   "execution_count": 34,
   "id": "f9c55b67-c17b-447d-93be-5c2126f70c91",
   "metadata": {},
   "outputs": [
    {
     "data": {
      "text/plain": [
       "array([13,  8, 12, 15, 14,  7, 12, 12])"
      ]
     },
     "execution_count": 34,
     "metadata": {},
     "output_type": "execute_result"
    }
   ],
   "source": [
    "np.sum(G, axis=1)"
   ]
  },
  {
   "cell_type": "code",
   "execution_count": 35,
   "id": "b1751309-7b13-46f2-bcb0-855f81f16189",
   "metadata": {},
   "outputs": [
    {
     "data": {
      "text/plain": [
       "array([[ 0,  1,  2,  3,  4,  5,  6,  7,  8,  9],\n",
       "       [10, 11, 12, 13, 14, 15, 16, 17, 18, 19],\n",
       "       [20, 21, 22, 23, 24, 25, 26, 27, 28, 29],\n",
       "       [30, 31, 32, 33, 34, 35, 36, 37, 38, 39],\n",
       "       [40, 41, 42, 43, 44, 45, 46, 47, 48, 49],\n",
       "       [50, 51, 52, 53, 54, 55, 56, 57, 58, 59],\n",
       "       [60, 61, 62, 63, 64, 65, 66, 67, 68, 69],\n",
       "       [70, 71, 72, 73, 74, 75, 76, 77, 78, 79]])"
      ]
     },
     "execution_count": 35,
     "metadata": {},
     "output_type": "execute_result"
    }
   ],
   "source": [
    "a = np.arange(80).reshape(8,-1)\n",
    "a"
   ]
  },
  {
   "cell_type": "code",
   "execution_count": 36,
   "id": "6aafbfac-4dd4-469b-b648-8d440f914af1",
   "metadata": {},
   "outputs": [
    {
     "data": {
      "text/plain": [
       "array([5, 5, 6, 7, 4, 0, 0, 1])"
      ]
     },
     "execution_count": 36,
     "metadata": {},
     "output_type": "execute_result"
    }
   ],
   "source": [
    "b  = np.random.choice(9, size=8)\n",
    "b"
   ]
  },
  {
   "cell_type": "code",
   "execution_count": 37,
   "id": "a306c961-3a04-4223-a288-05ca7dff7e2b",
   "metadata": {},
   "outputs": [
    {
     "data": {
      "text/plain": [
       "array([[ 5],\n",
       "       [15],\n",
       "       [26],\n",
       "       [37],\n",
       "       [44],\n",
       "       [50],\n",
       "       [60],\n",
       "       [71]])"
      ]
     },
     "execution_count": 37,
     "metadata": {},
     "output_type": "execute_result"
    }
   ],
   "source": [
    "c = a[np.arange(a.shape[0]), b].reshape(-1, 1)\n",
    "c"
   ]
  },
  {
   "cell_type": "code",
   "execution_count": 38,
   "id": "bb83507b-614f-439d-b759-8bbda880d289",
   "metadata": {},
   "outputs": [
    {
     "data": {
      "text/plain": [
       "array([[ 6,  9, -6],\n",
       "       [-5,  6, -4],\n",
       "       [ 1,  9, -9],\n",
       "       [ 3, -3,  3],\n",
       "       [-4, -7,  6]])"
      ]
     },
     "execution_count": 38,
     "metadata": {},
     "output_type": "execute_result"
    }
   ],
   "source": [
    "x = np.random.choice(range(-9,10), size=(5,3))\n",
    "x"
   ]
  },
  {
   "cell_type": "code",
   "execution_count": 39,
   "id": "69797649-edc6-4577-a38c-803a7228f7a0",
   "metadata": {},
   "outputs": [
    {
     "data": {
      "text/plain": [
       "array([[ 2, -1],\n",
       "       [-8, -5],\n",
       "       [-7,  8]])"
      ]
     },
     "execution_count": 39,
     "metadata": {},
     "output_type": "execute_result"
    }
   ],
   "source": [
    "w = np.random.choice(range(-9,10), size=(3,2))\n",
    "w"
   ]
  },
  {
   "cell_type": "code",
   "execution_count": 40,
   "id": "41831d37-8be8-41d2-b06d-2c230f5048cf",
   "metadata": {},
   "outputs": [
    {
     "data": {
      "text/plain": [
       "array([-9,  9])"
      ]
     },
     "execution_count": 40,
     "metadata": {},
     "output_type": "execute_result"
    }
   ],
   "source": [
    "b = np.random.choice(range(-9,10), size=(2,))\n",
    "b"
   ]
  },
  {
   "cell_type": "code",
   "execution_count": 41,
   "id": "15aeebb6-b780-4d6d-b975-52d88bb899da",
   "metadata": {},
   "outputs": [
    {
     "data": {
      "text/plain": [
       "array([[ -18,  -99],\n",
       "       [ -30,  -57],\n",
       "       [  -7, -118],\n",
       "       [   9,   36],\n",
       "       [   6,   87]])"
      ]
     },
     "execution_count": 41,
     "metadata": {},
     "output_type": "execute_result"
    }
   ],
   "source": [
    "x @ w"
   ]
  },
  {
   "cell_type": "code",
   "execution_count": 42,
   "id": "14a96d7d-cab2-4295-918c-1b87b3c27752",
   "metadata": {},
   "outputs": [
    {
     "data": {
      "text/plain": [
       "array([[ -27,  -90],\n",
       "       [ -39,  -48],\n",
       "       [ -16, -109],\n",
       "       [   0,   45],\n",
       "       [  -3,   96]])"
      ]
     },
     "execution_count": 42,
     "metadata": {},
     "output_type": "execute_result"
    }
   ],
   "source": [
    "z = x @ w + b\n",
    "z"
   ]
  },
  {
   "cell_type": "code",
   "execution_count": 43,
   "id": "f32c867e-7932-4c46-ad78-9340ef58949a",
   "metadata": {},
   "outputs": [
    {
     "data": {
      "text/plain": [
       "array([ -85, -106])"
      ]
     },
     "execution_count": 43,
     "metadata": {},
     "output_type": "execute_result"
    }
   ],
   "source": [
    "z.sum(axis=0)"
   ]
  },
  {
   "cell_type": "code",
   "execution_count": 44,
   "id": "c4d633d1-ce9e-41f2-b7ef-638b0bc466b4",
   "metadata": {},
   "outputs": [
    {
     "data": {
      "text/plain": [
       "array([[ 8,  9, -8],\n",
       "       [-3,  4,  8],\n",
       "       [-1,  5,  5],\n",
       "       [ 2,  0,  3],\n",
       "       [-2, -2,  1]])"
      ]
     },
     "execution_count": 44,
     "metadata": {},
     "output_type": "execute_result"
    }
   ],
   "source": [
    "x = np.random.choice(range(-9,10), size=(5,3))\n",
    "x"
   ]
  },
  {
   "cell_type": "code",
   "execution_count": 45,
   "id": "95f426cb-3f2e-4584-9a67-727057082d33",
   "metadata": {},
   "outputs": [
    {
     "data": {
      "text/plain": [
       "array([[8, 9, 0],\n",
       "       [0, 4, 8],\n",
       "       [0, 5, 5],\n",
       "       [2, 0, 3],\n",
       "       [0, 0, 1]])"
      ]
     },
     "execution_count": 45,
     "metadata": {},
     "output_type": "execute_result"
    }
   ],
   "source": [
    "np.maximum(0,x)"
   ]
  },
  {
   "cell_type": "code",
   "execution_count": 46,
   "id": "92c20215-ef27-4eab-a564-a363bbcd0da2",
   "metadata": {},
   "outputs": [
    {
     "data": {
      "text/plain": [
       "array([[ 0.27395605, -0.06112156,  0.35859792],\n",
       "       [ 0.19736803, -0.40582265,  0.47562235],\n",
       "       [ 0.2611397 ,  0.28606431, -0.37188637],\n",
       "       [-0.04961406, -0.12920198,  0.42676499],\n",
       "       [ 0.14386512,  0.32276161, -0.0565858 ]])"
      ]
     },
     "execution_count": 46,
     "metadata": {},
     "output_type": "execute_result"
    }
   ],
   "source": [
    "rng = np.random.default_rng(seed=42)\n",
    "dout = rng.random((5, 3)) - 0.5\n",
    "dout"
   ]
  },
  {
   "cell_type": "code",
   "execution_count": 47,
   "id": "dd973fa7-3417-4586-9fcb-76bf51a8f07c",
   "metadata": {},
   "outputs": [
    {
     "data": {
      "text/plain": [
       "array([[ 0.27395605, -0.06112156,  0.        ],\n",
       "       [ 0.        , -0.40582265,  0.47562235],\n",
       "       [ 0.        ,  0.28606431, -0.37188637],\n",
       "       [-0.04961406,  0.        ,  0.42676499],\n",
       "       [ 0.        ,  0.        , -0.0565858 ]])"
      ]
     },
     "execution_count": 47,
     "metadata": {},
     "output_type": "execute_result"
    }
   ],
   "source": [
    "np.where(x>0, dout, 0)"
   ]
  },
  {
   "cell_type": "code",
   "execution_count": 48,
   "id": "cf841140-522f-4761-84b0-735c8c7428fe",
   "metadata": {},
   "outputs": [
    {
     "data": {
      "text/plain": [
       "3"
      ]
     },
     "execution_count": 48,
     "metadata": {},
     "output_type": "execute_result"
    }
   ],
   "source": [
    "10 // 3"
   ]
  },
  {
   "cell_type": "code",
   "execution_count": 49,
   "id": "05a5957c-3c67-4e1d-93a5-3296439c500d",
   "metadata": {},
   "outputs": [
    {
     "data": {
      "text/plain": [
       "73"
      ]
     },
     "execution_count": 49,
     "metadata": {},
     "output_type": "execute_result"
    }
   ],
   "source": [
    "p = 0.7\n",
    "np.sum(np.random.rand(10,10) < p)"
   ]
  },
  {
   "cell_type": "code",
   "execution_count": 50,
   "id": "5a16fb50-db22-4ec8-86d2-0254d8565422",
   "metadata": {},
   "outputs": [
    {
     "data": {
      "text/plain": [
       "1.2231733566893048"
      ]
     },
     "execution_count": 50,
     "metadata": {},
     "output_type": "execute_result"
    }
   ],
   "source": [
    "np.random.uniform(-5,5)"
   ]
  },
  {
   "cell_type": "code",
   "execution_count": 51,
   "id": "fcb72c8e-5b89-40fd-84c2-c071248bc229",
   "metadata": {},
   "outputs": [
    {
     "data": {
      "text/plain": [
       "array([-5, -4, -3, -2, -1,  0,  1,  2,  3,  4])"
      ]
     },
     "execution_count": 51,
     "metadata": {},
     "output_type": "execute_result"
    }
   ],
   "source": [
    "np.arange(-5,5)"
   ]
  },
  {
   "cell_type": "code",
   "execution_count": 52,
   "id": "3231c99f-6950-4c48-bc52-b518f2843553",
   "metadata": {},
   "outputs": [
    {
     "data": {
      "text/plain": [
       "[1e-05, 0.0001, 0.001, 0.01, 0.1, 1, 10, 100, 1000, 10000]"
      ]
     },
     "execution_count": 52,
     "metadata": {},
     "output_type": "execute_result"
    }
   ],
   "source": [
    "reg = [10**k for k in range(-5,5)]\n",
    "reg"
   ]
  },
  {
   "cell_type": "code",
   "execution_count": 53,
   "id": "1605404f-2001-43cb-a0db-c2a4b9263059",
   "metadata": {},
   "outputs": [
    {
     "name": "stdout",
     "output_type": "stream",
     "text": [
      "0.4606708266997721 0.0009095296249767528\n",
      "0.06951240104436429 0.0007763197033743731\n",
      "0.07130342384584955 0.0001232408829312297\n",
      "0.0005947303788468648 0.00011525986044345732\n",
      "0.0011775242254151049 0.0005691167464355559\n",
      "0.15013475541224444 0.00013686820384540164\n",
      "0.0033779789849961214 0.00043269118411870294\n",
      "0.019725231268334288 0.0004978485860478612\n",
      "0.7124989320939966 0.00020522457106666558\n",
      "0.0016983798575008206 0.0005916080248634139\n",
      "0.0010863159693244267 0.0003519219535558775\n",
      "0.000601577627731723 0.00028320211193965885\n",
      "0.13482708991650283 0.0005402252829530882\n",
      "0.020846367822514315 0.0003172440159275265\n",
      "0.11196235501406544 0.0002992153204323708\n",
      "0.00016646371952527353 0.0003177033765518295\n",
      "0.0008384491603352659 0.00015872156975743905\n",
      "0.06728094202186406 0.00016356919186992448\n",
      "0.0002565468974772741 0.00010509278089213991\n",
      "0.0027301678548775706 0.00018075755451965193\n"
     ]
    }
   ],
   "source": [
    "max_count = 20\n",
    "for count in range(max_count):\n",
    "    reg = 10**np.random.uniform(-4,0)\n",
    "    lr = 10**np.random.uniform(-3,-4)\n",
    "    print(reg, lr)"
   ]
  },
  {
   "cell_type": "code",
   "execution_count": 54,
   "id": "86a528da-a2ad-4f98-a301-9d20fd384125",
   "metadata": {},
   "outputs": [
    {
     "name": "stdout",
     "output_type": "stream",
     "text": [
      "('X_train: ', (49000, 3, 32, 32))\n",
      "('y_train: ', (49000,))\n",
      "('X_val: ', (1000, 3, 32, 32))\n",
      "('y_val: ', (1000,))\n",
      "('X_test: ', (1000, 3, 32, 32))\n",
      "('y_test: ', (1000,))\n"
     ]
    }
   ],
   "source": [
    "import numpy as np\n",
    "from cs231n.data_utils import load_CIFAR10\n",
    "import matplotlib.pyplot as plt\n",
    "from cs231n.classifiers.fc_net import *\n",
    "from cs231n.data_utils import get_CIFAR10_data\n",
    "from cs231n.gradient_check import eval_numerical_gradient, eval_numerical_gradient_array\n",
    "from cs231n.solver import Solver\n",
    "\n",
    "%load_ext autoreload\n",
    "%autoreload 2\n",
    "\n",
    "data = get_CIFAR10_data()\n",
    "for k, v in list(data.items()):\n",
    "  print(('%s: ' % k, v.shape))"
   ]
  },
  {
   "cell_type": "code",
   "execution_count": 55,
   "id": "22d7db38-58aa-47df-8031-aa1ecf6b7554",
   "metadata": {},
   "outputs": [
    {
     "name": "stdout",
     "output_type": "stream",
     "text": [
      "# 0: val_acc: 0.212, lr: 2.6440980107426116e-06, reg: 0.01645215543852264\n",
      "# 1: val_acc: 0.455, lr: 9.864852958323932e-05, reg: 0.00013500459925051722\n",
      "# 2: val_acc: 0.265, lr: 9.257305965405148e-06, reg: 0.37219758089456734\n",
      "# 3: val_acc: 0.214, lr: 4.138557493455165e-06, reg: 0.17530190616583052\n",
      "# 4: val_acc: 0.373, lr: 3.1695994035045825e-05, reg: 0.00037531038800646486\n",
      "# 5: val_acc: 0.498, lr: 0.0008499595801801215, reg: 0.0001235101741765082\n",
      "# 6: val_acc: 0.209, lr: 3.396955944481668e-06, reg: 0.4077350758058836\n",
      "# 7: val_acc: 0.177, lr: 1.7777786146646457e-06, reg: 0.01217792054035219\n",
      "# 8: val_acc: 0.184, lr: 1.2729208197016393e-06, reg: 0.030530131254570006\n",
      "# 9: val_acc: 0.477, lr: 0.0002278945997079679, reg: 0.00021669998133528912\n",
      "(0.498, 0.0008499595801801215, 0.0001235101741765082)\n",
      "(0.477, 0.0002278945997079679, 0.00021669998133528912)\n",
      "(0.455, 9.864852958323932e-05, 0.00013500459925051722)\n",
      "(0.373, 3.1695994035045825e-05, 0.00037531038800646486)\n",
      "(0.265, 9.257305965405148e-06, 0.37219758089456734)\n",
      "(0.214, 4.138557493455165e-06, 0.17530190616583052)\n",
      "(0.212, 2.6440980107426116e-06, 0.01645215543852264)\n",
      "(0.209, 3.396955944481668e-06, 0.4077350758058836)\n",
      "(0.184, 1.2729208197016393e-06, 0.030530131254570006)\n",
      "(0.177, 1.7777786146646457e-06, 0.01217792054035219)\n"
     ]
    }
   ],
   "source": [
    "input_size = 32 * 32 * 3\n",
    "hidden_size = 50\n",
    "num_classes = 10\n",
    "\n",
    "# data['X_train'] = data['X_train'][:20]\n",
    "# data['y_train'] = data['y_train'][:20]\n",
    "\n",
    "learning_rate = 3e-3\n",
    "reg = 100\n",
    "lr_decay = 0.9\n",
    "num_epochs = 10\n",
    "batch_size = 100\n",
    "\n",
    "max_count = 10\n",
    "history = []\n",
    "for count in range(max_count):\n",
    "    reg = 10**np.random.uniform(-4,0)\n",
    "    lr = 10**np.random.uniform(-3,-6)\n",
    "    \n",
    "    model = TwoLayerNet(input_size, hidden_size, num_classes, reg=reg)\n",
    "\n",
    "    solver = Solver(model, data,\n",
    "                    update_rule='sgd',\n",
    "                    optim_config={\n",
    "                        'learning_rate': lr,\n",
    "                        },\n",
    "                    lr_decay=lr_decay,\n",
    "                    num_epochs=num_epochs,\n",
    "                    batch_size=batch_size,\n",
    "                    print_every = 100,\n",
    "                    verbose=False)\n",
    "\n",
    "    solver.train()\n",
    "    history.append((solver.best_val_acc, lr, reg))\n",
    "    print(f\"# {count}: val_acc: {solver.best_val_acc}, lr: {lr}, reg: {reg}\")\n",
    "\n",
    "history.sort(reverse=True, key=lambda a: a[0])\n",
    "for k in history[:10]:\n",
    "    print(k)"
   ]
  }
 ],
 "metadata": {
  "kernelspec": {
   "display_name": "Python 3 (ipykernel)",
   "language": "python",
   "name": "python3"
  },
  "language_info": {
   "codemirror_mode": {
    "name": "ipython",
    "version": 3
   },
   "file_extension": ".py",
   "mimetype": "text/x-python",
   "name": "python",
   "nbconvert_exporter": "python",
   "pygments_lexer": "ipython3",
   "version": "3.9.9"
  }
 },
 "nbformat": 4,
 "nbformat_minor": 5
}
